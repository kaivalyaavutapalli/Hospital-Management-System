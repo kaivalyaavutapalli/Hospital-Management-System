{
 "cells": [
  {
   "cell_type": "code",
   "execution_count": 22,
   "id": "ef8d10fc",
   "metadata": {
    "colab": {
     "base_uri": "https://localhost:8080/"
    },
    "id": "ef8d10fc",
    "outputId": "d3e86df7-5d3a-41d1-d270-f34612fda5af"
   },
   "outputs": [
    {
     "name": "stdout",
     "output_type": "stream",
     "text": [
      "Connected to MySQL Server version  8.0.31\n",
      "You're connected to database:  ('hospitalbilling',)\n"
     ]
    }
   ],
   "source": [
    "# MYSQL PYTHON CONNECTION\n",
    "import pandas as pd\n",
    "import mysql.connector\n",
    "from mysql.connector import Error\n",
    "import warnings\n",
    "\n",
    "warnings.filterwarnings(\"ignore\")\n",
    "\n",
    "try:\n",
    "    connection = mysql.connector.connect(host='127.0.0.1',\n",
    "                                         database='hospitalbilling',\n",
    "                                         user='root',\n",
    "                                        password='root')\n",
    "    #print(connection)\n",
    "    if connection.is_connected():\n",
    "        db_Info = connection.get_server_info()\n",
    "        print(\"Connected to MySQL Server version \", db_Info)\n",
    "        cursor = connection.cursor()\n",
    "        cursor.execute(\"select database();\")\n",
    "        record = cursor.fetchone()\n",
    "        print(\"You're connected to database: \", record)\n",
    "\n",
    "except Error as e:\n",
    "    print(\"Error while connecting to MySQL\", e)\n"
   ]
  },
  {
   "cell_type": "code",
   "execution_count": 148,
   "id": "d2b2c312",
   "metadata": {
    "id": "d2b2c312",
    "outputId": "606c6115-bba9-47c0-8cc2-2facc70ebe91"
   },
   "outputs": [
    {
     "name": "stdout",
     "output_type": "stream",
     "text": [
      "List of patient ids who have appointments in next 2 days\n",
      "52-6890807\n"
     ]
    }
   ],
   "source": [
    "from datetime import date\n",
    "\n",
    "today = (date.today().strftime('%Y-%m-%d'),)\n",
    "#print(today)\n",
    "cursor.callproc('appointment_in_next_2days', today)\n",
    "for result in cursor.stored_results():\n",
    "    results=result.fetchall()\n",
    "\n",
    "#print(results )\n",
    "if len(results)>0:\n",
    "    print(\"List of patient ids who have appointments in next 2 days\")\n",
    "    for result in results:\n",
    "        print(result[0])\n",
    "else:\n",
    "    print(\"No appointments in next 2 days\")\n"
   ]
  },
  {
   "cell_type": "code",
   "execution_count": 149,
   "id": "60e55152",
   "metadata": {
    "id": "60e55152",
    "outputId": "9cf1eb2a-481b-4b70-eb7d-6bc745d0c628"
   },
   "outputs": [
    {
     "name": "stdout",
     "output_type": "stream",
     "text": [
      "List of patient ids who have to take the vaccine in next week\n",
      "42-8242885\n",
      "52-6890807\n",
      "32-0949473\n",
      "47-6929314\n",
      "15-8394125\n",
      "43-1621979\n",
      "47-6929314\n"
     ]
    }
   ],
   "source": [
    "from datetime import date\n",
    "\n",
    "today = (date.today().strftime('%Y-%m-%d'),)\n",
    "#print(today)\n",
    "cursor.callproc('get_vaccine', today)\n",
    "for result in cursor.stored_results():\n",
    "    results=result.fetchall()\n",
    "    \n",
    "#print(results)\n",
    "\n",
    "if len(results)>0:\n",
    "    print(\"List of patient ids who have to take the vaccine in next week\")\n",
    "    for result in results:\n",
    "        print(result[0])\n",
    "else:\n",
    "    print(\"No one have to take the vaccine in next week\")\n",
    "    \n"
   ]
  },
  {
   "cell_type": "code",
   "execution_count": 151,
   "id": "53898516",
   "metadata": {
    "id": "53898516",
    "outputId": "57ad897d-88aa-4c8a-cdfb-445597f95868"
   },
   "outputs": [
    {
     "name": "stdout",
     "output_type": "stream",
     "text": [
      "Enter the depatment name for which you need the hospital list: Gynaecology\n",
      "Following are the list of hospitals which have Gynaecology\n",
      "Boston Children's Hospital\n",
      "Franco-USAese Hospital\n",
      "Dana-Faber Cancer Institute\n"
     ]
    }
   ],
   "source": [
    "dept_name=input(\"Enter the depatment name for which you need the hospital list: \")\n",
    "dept=(dept_name,)#'Cardiology'\n",
    "cursor.callproc('get_hospital_with_department', dept)\n",
    "for result in cursor.stored_results():\n",
    "    hospitals=result.fetchall()\n",
    "    \n",
    "#print(hospitals)\n",
    "print(\"Following are the list of hospitals which have\",dept_name)\n",
    "for hospital in hospitals:\n",
    "    print(hospital[0])\n"
   ]
  },
  {
   "cell_type": "code",
   "execution_count": 65,
   "id": "91acb92f",
   "metadata": {
    "id": "91acb92f",
    "outputId": "184245db-b483-4aff-a4c7-8ddec6adc485"
   },
   "outputs": [
    {
     "name": "stdout",
     "output_type": "stream",
     "text": [
      "('Tanvi', 'Reddy', 'D13861')\n",
      "('Regina', 'Phillips', 'D14248')\n",
      "('William', 'Fishers', 'D24977')\n",
      "('John', 'Rivers', 'D4219')\n",
      "('Rebecca', 'Johnson', 'D43717')\n",
      "('Marina', 'DSouza', 'D47306')\n",
      "('Abhignya', 'Pachava', 'D58202')\n",
      "('Bhavitha', 'Meka', 'D70630')\n",
      "('Prakash', 'Mehta', 'D70640')\n",
      "('Kaivalya', 'Avutapalli', 'D9046')\n"
     ]
    }
   ],
   "source": [
    "view1=\"\"\"SELECT first_name,last_name,doctor_id FROM availibility_doctor_view\"\"\"\n",
    "cursor.execute(view1)\n",
    "results = cursor.fetchall()\n",
    "for result in results:\n",
    "    print(result)"
   ]
  },
  {
   "cell_type": "code",
   "execution_count": 66,
   "id": "4fc7628f",
   "metadata": {
    "id": "4fc7628f",
    "outputId": "13b0c2ef-4d68-48f0-891e-0a872616d65d"
   },
   "outputs": [
    {
     "name": "stdout",
     "output_type": "stream",
     "text": [
      "('Franco-USAese Hospital', 'Indianapolis', 'Paediatrics')\n",
      "('Franco-USAese Hospital', 'Indianapolis', 'Obstetrics')\n",
      "('Franco-USAese Hospital', 'Austin', 'Orthopaedics')\n",
      "('Franco-USAese Hospital', 'Fort Lauderdale', 'Skin')\n",
      "('Franco-USAese Hospital', 'Fort Lauderdale', 'Medicine')\n",
      "('Franco-USAese Hospital', 'Anniston', 'Psychiatry')\n",
      "('Dana-Faber Cancer Institute', 'Colorado Springs', 'Dental')\n",
      "('Franco-USAese Hospital', 'Phoenix', 'Cardiology')\n",
      "('Dana-Faber Cancer Institute', 'Midland', 'Neurology')\n",
      "('Dana-Faber Cancer Institute', 'Philadelphia', 'Eye')\n",
      "('Dana-Faber Cancer Institute', 'Van Nuys', 'Plastic Surgery')\n",
      "('Dana-Faber Cancer Institute', 'Van Nuys', 'Gynaecology')\n",
      "(\"Boston Children's Hospital\", 'Roanoke', 'ENT')\n"
     ]
    }
   ],
   "source": [
    "view2=\"\"\"SELECT hosp_name, hosp_city,dept_name FROM hos_hospitaldept_view\"\"\"\n",
    "cursor.execute(view2)\n",
    "results = cursor.fetchall()\n",
    "for result in results:\n",
    "    print(result)"
   ]
  },
  {
   "cell_type": "code",
   "execution_count": 67,
   "id": "9cebfe7d",
   "metadata": {
    "id": "9cebfe7d",
    "outputId": "0d81ccc4-8285-46fb-d839-71c3b56d317c"
   },
   "outputs": [
    {
     "name": "stdout",
     "output_type": "stream",
     "text": [
      "('42-8242885', 'Ileane', 'Sauvain', 'Alabama', '2514640859', 'isauvainc@umn.edu', 'PL1', 'Preferred provider organization plan', 1, 0, 'KAISER', datetime.date(2022, 12, 30), 'P1002')\n",
      "('15-8394125', 'Levey', 'Juanes', 'Alabama', '2057127408', 'ljuanes1@guard.com', 'PL2', 'Health maintenance organization plan', 0, 1, 'UHEALTH', datetime.date(2022, 6, 29), 'P1001')\n",
      "('02-9177588', 'Wallace', 'Scawen', 'Alabama', '2055973773', 'wscawena@bus.com', 'PL3', 'Point of service plan', 1, 1, 'UHEALTH', datetime.date(2022, 12, 30), 'P1003')\n",
      "('43-4350469', 'Tann', 'Colicot', 'Alabama', '2054490995', 'tcoli@princeton.edu', 'PL3', 'Point of service plan', 1, 1, 'UHEALTH', datetime.date(2022, 12, 30), 'P1003')\n",
      "('75-8247992', 'Rosalyn', 'Ca', 'Alabama', '2565712491', 'rca4@twitpic.com', 'PL3', 'Point of service plan', 1, 1, 'UHEALTH', datetime.date(2022, 12, 30), 'P1003')\n",
      "('36-4840031', 'Arvin', 'Lacey', 'Alabama', '2514351864', 'alacey3@wikipedia.org', 'PL3', 'Point of service plan', 1, 1, 'HUMANA', datetime.date(2022, 12, 30), 'P1012')\n",
      "('12-3268018', 'Travers', 'Morgon', 'Alabama', '6335888665', 'tmorgon0@patch.com', 'PL4', 'Exclusive provider organization Plan', 1, 1, 'ANTHEM', datetime.date(2022, 6, 29), 'P1004')\n",
      "('59-4900359', 'Sheffie', 'Scrowton', 'Alabama', '2519293724', 'sscrowton7@psu.edu', 'PL4', 'Exclusive provider organization Plan', 1, 1, 'ANTHEM', datetime.date(2022, 6, 29), 'P1004')\n",
      "('77-4662244', 'Mano', 'Eyes', 'Alabama', '3348209156', 'meyesd@go.com', 'PL5', 'Health savings account qualified plan', 0, 0, 'CENTENE', datetime.date(2022, 12, 30), 'P1005')\n",
      "('47-3781177', 'Raina', 'Skyram', 'Alabama', '2518644921', 'rskyramh@ucoz.ru', 'PL5', 'Health savings account qualified plan', 0, 0, 'ANTHEM', datetime.date(2022, 12, 30), 'P1011')\n",
      "('43-1621979', 'Toby', 'Skeene', 'Alabama', '2512098336', 'tskeenee@omniture.com', 'PL6', 'Indemnity plan', 0, 1, 'CVS', datetime.date(2022, 12, 30), 'P1006')\n",
      "('32-0949473', 'Lucias', 'Dallender', 'Alabama', '2562271463', 'ldallender5@skype.com', 'PL6', 'Indemnity plan', 0, 1, 'CVS', datetime.date(2022, 12, 30), 'P1006')\n",
      "('81-1406074', 'Ollie', 'Weighell', 'Alabama', '3348786154', 'oweighelli@wiley.com', 'PL6', 'Indemnity plan', 0, 1, 'IHG', datetime.date(2022, 12, 30), 'P1013')\n",
      "('72-2088963', 'Leodora', 'Lindup', 'Alabama', '2565993021', 'llindup6@newsvine.com', 'PL6', 'Indemnity plan', 0, 1, 'HUMANA', datetime.date(2022, 12, 30), 'P1015')\n",
      "('56-2589714', 'Yalonda', 'Wholesworth', 'Alabama', '2514519940', 'ywholes@hatena.ne.jp', 'PL7', 'Open Access Point of service', 1, 0, 'HCSC', datetime.date(2022, 4, 29), 'P1007')\n",
      "('89-6699193', 'Ede', 'Woloschin', 'Alabama', '2516807502', 'ewol@dailymail.co.uk', 'PL7', 'Open Access Point of service', 1, 0, 'HCSC', datetime.date(2022, 4, 29), 'P1007')\n",
      "('75-9858715', 'Elinore', 'Baurerich', 'Alabama', '2059781576', 'ebaurer@gmail.com', 'PL7', 'Open Access Point of service', 1, 0, 'CIGNA', datetime.date(2022, 2, 27), 'P1010')\n",
      "('47-6929314', 'Roley', 'Cayzer', 'Alabama', '2051276031', 'rcayzerg@youtu.be', 'PL8', 'High Deductible Health Plan', 0, 0, 'MOLINA', datetime.date(2022, 12, 30), 'P1008')\n",
      "('71-1784438', 'Alard', 'Turgoose', 'Alabama', '2053971382', 'aturgoosej@fema.gov', 'PL8', 'High Deductible Health Plan', 0, 0, 'ANTHEM', datetime.date(2022, 4, 29), 'P1014')\n",
      "('52-6890807', 'Verge', 'Bermingham', 'Alabama', '2563173035', 'vbermingham8@patch.com', 'PL9', 'Short term health insurance plan', 1, 1, 'IHG', datetime.date(2022, 12, 30), 'P1009')\n"
     ]
    }
   ],
   "source": [
    "view3=\"\"\"SELECT * FROM patient_insurance_view\"\"\"\n",
    "cursor.execute(view3)\n",
    "results = cursor.fetchall()\n",
    "for result in results:\n",
    "    print(result)"
   ]
  },
  {
   "cell_type": "code",
   "execution_count": 68,
   "id": "6d001394",
   "metadata": {
    "id": "6d001394",
    "outputId": "b9f59e70-e949-4bff-b1fa-39bf893e9ba1"
   },
   "outputs": [
    {
     "name": "stdout",
     "output_type": "stream",
     "text": [
      "('02-9177588', 'Wallace', 'Scawen', '2055973773', 'wscawena@bus.com', '85439', datetime.date(2022, 12, 20))\n",
      "('12-3268018', 'Travers', 'Morgon', '6335888665', 'tmorgon0@patch.com', '85439', datetime.date(2022, 1, 1))\n",
      "('15-8394125', 'Levey', 'Juanes', '2057127408', 'ljuanes1@guard.com', '84537', datetime.date(2022, 5, 13))\n",
      "('15-8394125', 'Levey', 'Juanes', '2057127408', 'ljuanes1@guard.com', '84933', datetime.date(2022, 5, 13))\n",
      "('32-0949473', 'Lucias', 'Dallender', '2562271463', 'ldallender5@skype.com', '35428', datetime.date(2022, 3, 11))\n",
      "('36-4840031', 'Arvin', 'Lacey', '2514351864', 'alacey3@wikipedia.org', '98714', datetime.date(2022, 8, 9))\n",
      "('42-8242885', 'Ileane', 'Sauvain', '2514640859', 'isauvainc@umn.edu', '35428', datetime.date(2022, 7, 10))\n",
      "('43-1621979', 'Toby', 'Skeene', '2512098336', 'tskeenee@omniture.com', '84537', datetime.date(2022, 6, 13))\n",
      "('43-4350469', 'Tann', 'Colicot', '2054490995', 'tcoli@princeton.edu', '12312', datetime.date(2022, 10, 24))\n",
      "('47-3781177', 'Raina', 'Skyram', '2518644921', 'rskyramh@ucoz.ru', '12312', datetime.date(2022, 7, 11))\n",
      "('47-6929314', 'Roley', 'Cayzer', '2051276031', 'rcayzerg@youtu.be', '35428', datetime.date(2022, 10, 24))\n",
      "('47-6929314', 'Roley', 'Cayzer', '2051276031', 'rcayzerg@youtu.be', '84537', datetime.date(2022, 5, 14))\n",
      "('52-6890807', 'Verge', 'Bermingham', '2563173035', 'vbermingham8@patch.com', '35428', datetime.date(2022, 11, 23))\n",
      "('56-2589714', 'Yalonda', 'Wholesworth', '2514519940', 'ywholes@hatena.ne.jp', '84438', datetime.date(2022, 12, 20))\n",
      "('56-2589714', 'Yalonda', 'Wholesworth', '2514519940', 'ywholes@hatena.ne.jp', '98311', datetime.date(2022, 7, 17))\n",
      "('59-4900359', 'Sheffie', 'Scrowton', '2519293724', 'sscrowton7@psu.edu', '12312', datetime.date(2022, 2, 5))\n",
      "('71-1784438', 'Alard', 'Turgoose', '2053971382', 'aturgoosej@fema.gov', '84933', datetime.date(2022, 10, 21))\n",
      "('71-1784438', 'Alard', 'Turgoose', '2053971382', 'aturgoosej@fema.gov', '98714', datetime.date(2022, 2, 15))\n",
      "('72-2088963', 'Leodora', 'Lindup', '2565993021', 'llindup6@newsvine.com', '98439', datetime.date(2022, 4, 8))\n",
      "('72-2088963', 'Leodora', 'Lindup', '2565993021', 'llindup6@newsvine.com', '84438', datetime.date(2022, 4, 8))\n",
      "('75-8247992', 'Rosalyn', 'Ca', '2565712491', 'rca4@twitpic.com', '84438', datetime.date(2022, 7, 12))\n",
      "('75-9858715', 'Elinore', 'Baurerich', '2059781576', 'ebaurer@gmail.com', '98311', datetime.date(2022, 2, 21))\n",
      "('77-4662244', 'Mano', 'Eyes', '3348209156', 'meyesd@go.com', '98439', datetime.date(2022, 10, 24))\n",
      "('81-1406074', 'Ollie', 'Weighell', '3348786154', 'oweighelli@wiley.com', '98439', datetime.date(2022, 11, 19))\n",
      "('89-6699193', 'Ede', 'Woloschin', '2516807502', 'ewol@dailymail.co.uk', '84438', datetime.date(2022, 2, 1))\n"
     ]
    }
   ],
   "source": [
    "view4=\"\"\"SELECT * FROM patient_vaccine_view\"\"\"\n",
    "cursor.execute(view4)\n",
    "results = cursor.fetchall()\n",
    "for result in results:\n",
    "    print(result)"
   ]
  },
  {
   "cell_type": "code",
   "execution_count": 69,
   "id": "75fd9229",
   "metadata": {
    "id": "75fd9229",
    "outputId": "76386ad6-e6bc-4e01-8856-942190ad46a3"
   },
   "outputs": [
    {
     "name": "stdout",
     "output_type": "stream",
     "text": [
      "('12-3268018', 'Travers', 'Morgon', 'Alabama', '6335888665', 'tmorgon0@patch.com', 'Type 1 Diabetes: Insulin', 'F01')\n",
      "('77-4662244', 'Mano', 'Eyes', 'Alabama', '3348209156', 'meyesd@go.com', 'Blood Clots: Aspirin', 'F02')\n",
      "('42-8242885', 'Ileane', 'Sauvain', 'Alabama', '2514640859', 'isauvainc@umn.edu', 'Coronary Blocks: Coronary angioplasty and stent placement', 'F03')\n",
      "('56-2589714', 'Yalonda', 'Wholesworth', 'Alabama', '2514519940', 'ywholes@hatena.ne.jp', 'Bacterial pneumonia: Antibotics ', 'F04')\n",
      "('15-8394125', 'Levey', 'Juanes', 'Alabama', '2057127408', 'ljuanes1@guard.com', 'Asthama:Flovent HFA and Flovent Diskus', 'F05')\n",
      "('59-4900359', 'Sheffie', 'Scrowton', 'Alabama', '2519293724', 'sscrowton7@psu.edu', 'Bronchitis: Albuterol and cough medicine', 'F06')\n",
      "('32-0949473', 'Lucias', 'Dallender', 'Alabama', '2562271463', 'ldallender5@skype.com', 'Throat Infection: Tylenol', 'F07')\n",
      "('02-9177588', 'Wallace', 'Scawen', 'Alabama', '2055973773', 'wscawena@bus.com', 'Chest pain: Electrocardiogram and chest X-ray tests', 'F08')\n",
      "('72-2088963', 'Leodora', 'Lindup', 'Alabama', '2565993021', 'llindup6@newsvine.com', 'Type 2 Diabetes: Metformin', 'F09')\n",
      "('75-8247992', 'Rosalyn', 'Ca', 'Alabama', '2565712491', 'rca4@twitpic.com', 'Tuberclosis: isoniazid and rifampicin ', 'F10')\n",
      "('89-6699193', 'Ede', 'Woloschin', 'Alabama', '2516807502', 'ewol@dailymail.co.uk', 'Lung cancer: Chemotherapy', 'F11')\n",
      "('52-6890807', 'Verge', 'Bermingham', 'Alabama', '2563173035', 'vbermingham8@patch.com', 'High LDL cholestrol: Statins', 'F12')\n",
      "('36-4840031', 'Arvin', 'Lacey', 'Alabama', '2514351864', 'alacey3@wikipedia.org', 'Stomach Ulcer:Therapeutic endoscopy', 'F13')\n",
      "('59-4900359', 'Sheffie', 'Scrowton', 'Alabama', '2519293724', 'sscrowton7@psu.edu', 'Brain tumor: Biopsy', 'F14')\n",
      "('75-9858715', 'Elinore', 'Baurerich', 'Alabama', '2059781576', 'ebaurer@gmail.com', 'Typhoid:Ciprofloxacin and Azithromycin', 'F15')\n"
     ]
    }
   ],
   "source": [
    "view5=\"\"\"SELECT * FROM patient_view\"\"\"\n",
    "cursor.execute(view5)\n",
    "results = cursor.fetchall()\n",
    "for result in results:\n",
    "    print(result)"
   ]
  },
  {
   "cell_type": "code",
   "execution_count": 70,
   "id": "5e629c61",
   "metadata": {
    "id": "5e629c61",
    "outputId": "266fa003-7e02-4054-b777-e12e50abb874"
   },
   "outputs": [
    {
     "name": "stdout",
     "output_type": "stream",
     "text": [
      "('R1523', '85439', datetime.date(2022, 12, 20), '02-9177588', 'Cholera', Decimal('23'))\n",
      "('R1265', '85439', datetime.date(2022, 1, 1), '12-3268018', 'Cholera', Decimal('23'))\n",
      "('R1312', '84537', datetime.date(2022, 5, 13), '15-8394125', 'Anthrax', Decimal('2'))\n",
      "('R1313', '84933', datetime.date(2022, 5, 13), '15-8394125', 'DTaP', Decimal('1'))\n",
      "('R1814', '35428', datetime.date(2022, 3, 11), '32-0949473', 'Hepatitis B', Decimal('12'))\n",
      "('R1436', '98714', datetime.date(2022, 8, 9), '36-4840031', 'Influenza', Decimal('4'))\n",
      "('R1078', '35428', datetime.date(2022, 7, 10), '42-8242885', 'Hepatitis B', Decimal('12'))\n",
      "('R1965', '84537', datetime.date(2022, 6, 13), '43-1621979', 'Anthrax', Decimal('2'))\n",
      "('R1987', '12312', datetime.date(2022, 10, 24), '43-4350469', 'Meningococcal', Decimal('0'))\n",
      "('R2534', '12312', datetime.date(2022, 7, 11), '47-3781177', 'Meningococcal', Decimal('0'))\n",
      "('R2723', '35428', datetime.date(2022, 10, 24), '47-6929314', 'Hepatitis B', Decimal('12'))\n",
      "('R2724', '84537', datetime.date(2022, 5, 14), '47-6929314', 'Anthrax', Decimal('2'))\n",
      "('R1654', '35428', datetime.date(2022, 11, 23), '52-6890807', 'Hepatitis B', Decimal('12'))\n",
      "('R1122', '84438', datetime.date(2022, 12, 20), '56-2589714', 'Adenovirus', Decimal('20'))\n",
      "('R1123', '98311', datetime.date(2022, 7, 17), '56-2589714', 'Rabies', Decimal('11'))\n",
      "('R1652', '12312', datetime.date(2022, 2, 5), '59-4900359', 'Meningococcal', Decimal('0'))\n",
      "('R2111', '84933', datetime.date(2022, 10, 21), '71-1784438', 'DTaP', Decimal('1'))\n",
      "('R2112', '98714', datetime.date(2022, 2, 15), '71-1784438', 'Influenza', Decimal('4'))\n",
      "('R1756', '98439', datetime.date(2022, 4, 8), '72-2088963', 'Hepatitis A', Decimal('9'))\n",
      "('R1757', '84438', datetime.date(2022, 4, 8), '72-2088963', 'Adenovirus', Decimal('20'))\n",
      "('R1823', '84438', datetime.date(2022, 7, 12), '75-8247992', 'Adenovirus', Decimal('20'))\n",
      "('R1435', '98311', datetime.date(2022, 2, 21), '75-9858715', 'Rabies', Decimal('11'))\n",
      "('R1077', '98439', datetime.date(2022, 10, 24), '77-4662244', 'Hepatitis A', Decimal('9'))\n",
      "('R2523', '98439', datetime.date(2022, 11, 19), '81-1406074', 'Hepatitis A', Decimal('9'))\n",
      "('R1543', '84438', datetime.date(2022, 2, 1), '89-6699193', 'Adenovirus', Decimal('20'))\n"
     ]
    }
   ],
   "source": [
    "view6=\"\"\"SELECT * FROM vaccine_record_view\"\"\"\n",
    "cursor.execute(view6)\n",
    "results = cursor.fetchall()\n",
    "for result in results:\n",
    "    print(result)"
   ]
  },
  {
   "cell_type": "code",
   "execution_count": 71,
   "id": "4d24af27",
   "metadata": {
    "id": "4d24af27",
    "outputId": "c005fd55-3764-479c-ff8a-6de910c8eb1d"
   },
   "outputs": [
    {
     "name": "stdout",
     "output_type": "stream",
     "text": [
      "Enter first name of the patient Wallace\n",
      "Enter last name of the patient Scawen\n",
      "Wallace Scawen Bill amount is $ 75\n"
     ]
    }
   ],
   "source": [
    "fName=input(\"Enter first name of the patient \") # 'Wallace'\n",
    "lName=input(\"Enter last name of the patient \") # 'Scawen'\n",
    "args=(fName,lName)\n",
    "funct1=\"\"\"select display_bill_amount(%s,%s)\"\"\"\n",
    "\n",
    "cursor.execute(funct1,args)\n",
    "results = cursor.fetchall()\n",
    "for result in results[0]:\n",
    "    print(fName,lName,\"Bill amount is $\",result)\n"
   ]
  },
  {
   "cell_type": "code",
   "execution_count": 72,
   "id": "ada81b4d",
   "metadata": {
    "id": "ada81b4d",
    "outputId": "c3bebf79-8ed1-4fba-f1d0-2a4b60f33a6a"
   },
   "outputs": [
    {
     "name": "stdout",
     "output_type": "stream",
     "text": [
      "Enter first name of the patient Wallace\n",
      "Enter last name of the patient Scawen\n",
      "Wallace Scawen has to pay $ 0\n"
     ]
    }
   ],
   "source": [
    "fName=input(\"Enter first name of the patient \") # 'Wallace'\n",
    "lName=input(\"Enter last name of the patient \") # 'Scawen'\n",
    "args=(fName,lName)\n",
    "funct2=\"\"\"select display_payable_amount(%s,%s)\"\"\"\n",
    "\n",
    "cursor.execute(funct2,args)\n",
    "results = cursor.fetchall()\n",
    "for result in results[0]:\n",
    "    print(fName,lName,\"has to pay $\",result)"
   ]
  },
  {
   "cell_type": "code",
   "execution_count": 73,
   "id": "8e82abce",
   "metadata": {
    "id": "8e82abce",
    "outputId": "d4a151bf-7fa0-4a76-8f01-35d1fe3c6af7"
   },
   "outputs": [
    {
     "name": "stdout",
     "output_type": "stream",
     "text": [
      "Enter date 2022-10-01\n",
      "Enter city Salt Lake City\n",
      "Doctors are available on 2022-10-01 in Salt Lake City\n"
     ]
    }
   ],
   "source": [
    "day=input(\"Enter date \") # '2022-10-01'\n",
    "city=input(\"Enter city \") # 'Salt Lake City'\n",
    "args=(day,city)\n",
    "funct3=\"\"\"select doctors_available_in_city(%s,%s)\"\"\"\n",
    "\n",
    "cursor.execute(funct3,args)\n",
    "results = cursor.fetchall()\n",
    "for result in results[0]:\n",
    "    if result:\n",
    "        #print(result)\n",
    "        print(\"Doctors are available on\",day,\"in\",city)\n",
    "    else:\n",
    "        print(\"No Doctors are available on\",day,\"in\",city)"
   ]
  },
  {
   "cell_type": "code",
   "execution_count": 74,
   "id": "ad585364",
   "metadata": {
    "id": "ad585364"
   },
   "outputs": [],
   "source": [
    "cursor.execute(\" drop trigger if exists after_insert_details\")\n",
    "trigger1 = \"Create Trigger after_insert_details AFTER INSERT ON doctor FOR EACH ROW BEGIN INSERT INTO doctor_insert_details VALUES (new.doctor_id, new.first_name,   new.last_name, new.license_no, new.address_line1, new.address_line2,new.city,new.zip,new.state, CURTIME());  END \"\n",
    "cursor.execute(trigger1)"
   ]
  },
  {
   "cell_type": "code",
   "execution_count": 75,
   "id": "c6d00f42",
   "metadata": {
    "id": "c6d00f42"
   },
   "outputs": [],
   "source": [
    "cursor.execute(\"drop trigger if exists before_insert_treatment \")\n",
    "trigger2=\"Create Trigger before_insert_treatment BEFORE INSERT ON patienthistory FOR EACH ROW BEGIN IF NEW.treatement = 'Acidity' THEN SET NEW.treatement = 'Chest pain: Electrocardiogram and chest X-ray tests'; END IF;  END \"\n",
    "cursor.execute(trigger2)"
   ]
  },
  {
   "cell_type": "code",
   "execution_count": 76,
   "id": "3fd06dfd",
   "metadata": {
    "id": "3fd06dfd"
   },
   "outputs": [],
   "source": [
    "cursor.execute(\"drop trigger if exists before_insert_treatment1\")\n",
    "trigger21=\"Create Trigger before_insert_treatment1 BEFORE INSERT ON patienthistory FOR EACH ROW BEGIN IF NEW.treatement= 'Breathlessness' Then SET NEW.treatement='Asthama:Flovent HFA and Flovent Diskus';END IF; END\"\n",
    "cursor.execute(trigger21)"
   ]
  },
  {
   "cell_type": "code",
   "execution_count": 77,
   "id": "fbec5255",
   "metadata": {
    "id": "fbec5255"
   },
   "outputs": [],
   "source": [
    "cursor.execute(\"drop trigger if exists before_insert_treatment2\")\n",
    "trigger22=\"Create Trigger before_insert_treatment2 BEFORE INSERT ON patienthistory FOR EACH ROW BEGIN IF NEW.treatement= 'Fever that starts low and increases daily, possibly reaching as high as 104.9 F (40.5 C),Weakness' THEN SET NEW.treatement='Typhoid:Ciprofloxacin and Azithromycin';END IF; END \"\n",
    "cursor.execute(trigger22)"
   ]
  },
  {
   "cell_type": "code",
   "execution_count": 78,
   "id": "d0963900",
   "metadata": {
    "id": "d0963900"
   },
   "outputs": [],
   "source": [
    "cursor.execute(\"drop trigger if exists after_update_billinginfo \")\n",
    "trigger3=\"CREATE TRIGGER after_update_billinginfo AFTER UPDATE ON billing FOR EACH ROW BEGIN INSERT into students_log VALUES (bill_no,   CONCAT('Update bill Record ', OLD.amount, ' Previous amount :',  OLD.amount, ' Present amount ', NEW.amount));  END \"\n",
    "cursor.execute(trigger3)"
   ]
  },
  {
   "cell_type": "code",
   "execution_count": 79,
   "id": "4995d92a",
   "metadata": {
    "id": "4995d92a"
   },
   "outputs": [],
   "source": [
    "cursor.execute(\"drop trigger if exists vaccinerecords_bd\")\n",
    "trigger4=\"CREATE TRIGGER vaccinerecords_bd BEFORE DELETE ON vaccinerecords FOR EACH ROW INSERT INTO vaccinerecords_archive (record_id,patient_id,vaccine_id,date_of_vaccination) VALUES (OLD.record_id,OLD.patient_id,OLD.vaccine_id,OLD.date_of_vaccination);\"\n",
    "cursor.execute(trigger4)"
   ]
  },
  {
   "cell_type": "code",
   "execution_count": 80,
   "id": "b42313be",
   "metadata": {
    "id": "b42313be",
    "outputId": "b621a6e9-79d3-473a-8459-6a8ca4a89233"
   },
   "outputs": [
    {
     "name": "stdout",
     "output_type": "stream",
     "text": [
      "('02-9177588', '7702471980', 'Wallace', 'Scawen', '60525 Doe Crossing Junction', 'Elka', 'Tuscaloosa', '51672-1267', 'Alabama', '2055973773', 'wscawena@bus.com')\n",
      "('09-9177588', '7702871980', 'William', 'Steve', '12 village circle way', 'Elka', 'Nashua', '03102', 'NewHampshire', '6037868909', 'william10@gmail.com')\n",
      "('12-3268018', '9705918848', 'Travers', 'Morgon', '355 Hoard Way', 'Fallview', 'Birmingham', '76329-3011', 'Alabama', '6335888665', 'tmorgon0@patch.com')\n",
      "('15-8394125', '0278519156', 'Levey', 'Juanes', '4208 Messerschmidt Junction', 'Tennessee', 'Birmingham', '61919-824', 'Alabama', '2057127408', 'ljuanes1@guard.com')\n",
      "('32-0949473', '5439721134', 'Lucias', 'Dallender', '22695 Kings Hill', 'Westerfield', 'Gadsden', '60512-8034', 'Alabama', '2562271463', 'ldallender5@skype.com')\n",
      "('36-4840031', '6620748767', 'Arvin', 'Lacey', '73608 Macpherson Court', 'Ilene', 'Mobile', '62011-0098', 'Alabama', '2514351864', 'alacey3@wikipedia.org')\n",
      "('42-8242885', '9869902960', 'Ileane', 'Sauvain', '80026 Londonderry Court', 'Toban', 'Mobile', '49288-0392', 'Alabama', '2514640859', 'isauvainc@umn.edu')\n",
      "('43-1621979', '6144595252', 'Toby', 'Skeene', '6 Loeprich Pass', 'Warner', 'Mobile', '24236-063', 'Alabama', '2512098336', 'tskeenee@omniture.com')\n",
      "('43-4350469', '7362730373', 'Tann', 'Colicot', '699 Lien Center', 'Buena Vista', 'Birmingham', '59779-159', 'Alabama', '2054490995', 'tcoli@princeton.edu')\n",
      "('47-3781177', '0976923130', 'Raina', 'Skyram', '8 Sundown Avenue', 'Bluejay', 'Mobile', '50111-470', 'Alabama', '2518644921', 'rskyramh@ucoz.ru')\n",
      "('47-6929314', '2466286416', 'Roley', 'Cayzer', '115 Hoard Trail', 'Scoville', 'Birmingham', '43742-0305', 'Alabama', '2051276031', 'rcayzerg@youtu.be')\n",
      "('52-6890807', '7104267697', 'Verge', 'Bermingham', '44 Glendale Hill', 'Fordem', 'Anniston', '63629-1606', 'Alabama', '2563173035', 'vbermingham8@patch.com')\n",
      "('56-2589714', '0089428471', 'Yalonda', 'Wholesworth', '5412 Marcy Street', 'Sachs', 'Mobile', '55154-2062', 'Alabama', '2514519940', 'ywholes@hatena.ne.jp')\n",
      "('59-4900359', '4046811684', 'Sheffie', 'Scrowton', '730 Bellgrove Alley', 'Pawling', 'Mobile', '41250-079', 'Alabama', '2519293724', 'sscrowton7@psu.edu')\n",
      "('71-1784438', '2729962182', 'Alard', 'Turgoose', '3 Lien Junction', 'Northview', 'Birmingham', '10827-0002', 'Alabama', '2053971382', 'aturgoosej@fema.gov')\n",
      "('72-2088963', '1611384591', 'Leodora', 'Lindup', '2 Petterle Trail', 'Loftsgordon', 'Gadsden', '36800-335', 'Alabama', '2565993021', 'llindup6@newsvine.com')\n",
      "('75-8247992', '9536527642', 'Rosalyn', 'Ca', '809 Eagan Plaza', 'Carey', 'Huntsville', '54973-7508', 'Alabama', '2565712491', 'rca4@twitpic.com')\n",
      "('75-9858715', '9270565602', 'Elinore', 'Baurerich', '73603 Lukken Center', 'Warrior', 'Tuscaloosa', '54868-5011', 'Alabama', '2059781576', 'ebaurer@gmail.com')\n",
      "('77-4662244', '7224892882', 'Mano', 'Eyes', '74 Old Gate Trail', 'Lillian', 'Montgomery', '0904-5535', 'Alabama', '3348209156', 'meyesd@go.com')\n",
      "('81-1406074', '7751821108', 'Ollie', 'Weighell', '230 Heffernan Street', 'Southridge', 'Montgomery', '54569-3887', 'Alabama', '3348786154', 'oweighelli@wiley.com')\n",
      "('89-6699193', '9326000052', 'Ede', 'Woloschin', '6 Northland Avenue', 'Eliot', 'Mobile', '49999-249', 'Alabama', '2516807502', 'ewol@dailymail.co.uk')\n"
     ]
    }
   ],
   "source": [
    "q1=\"\"\"SELECT * FROM patient\"\"\"\n",
    "cursor.execute(q1)\n",
    "results = cursor.fetchall()\n",
    "for result in results:\n",
    "    print(result)"
   ]
  },
  {
   "cell_type": "code",
   "execution_count": 81,
   "id": "b597e8b5",
   "metadata": {
    "id": "b597e8b5"
   },
   "outputs": [],
   "source": [
    "q2=\"\"\"delete from vaccinerecords where record_id=\"R1266\" \"\"\"\n",
    "cursor.execute(q2)\n"
   ]
  },
  {
   "cell_type": "code",
   "execution_count": 82,
   "id": "961aafed",
   "metadata": {
    "id": "961aafed",
    "outputId": "f6bda705-b05e-4e0f-e21a-da1289b5a2db"
   },
   "outputs": [
    {
     "name": "stdout",
     "output_type": "stream",
     "text": [
      "No record found\n"
     ]
    }
   ],
   "source": [
    "q3=\"\"\"SELECT * FROM vaccinerecords where record_id=\"R1266\" \"\"\"\n",
    "cursor.execute(q3)\n",
    "results=cursor.fetchall()\n",
    "if len(results)>0:\n",
    "    for result in results:\n",
    "        print(result)\n",
    "else:\n",
    "    print(\"No record found\")"
   ]
  },
  {
   "cell_type": "code",
   "execution_count": 83,
   "id": "a901785b",
   "metadata": {
    "id": "a901785b",
    "outputId": "37eecea7-09ce-4ec9-8912-514e1b88fad4"
   },
   "outputs": [
    {
     "name": "stdout",
     "output_type": "stream",
     "text": [
      "('R1266', '12-3268018', '35428', datetime.date(2022, 1, 1))\n"
     ]
    }
   ],
   "source": [
    "q4=\"\"\"SELECT * FROM vaccinerecords_archive\"\"\"\n",
    "cursor.execute(q4)\n",
    "results=cursor.fetchall()\n",
    "for result in results:\n",
    "    print(result)"
   ]
  },
  {
   "cell_type": "code",
   "execution_count": 178,
   "id": "YRcDSLpXeCwY",
   "metadata": {
    "id": "YRcDSLpXeCwY"
   },
   "outputs": [
    {
     "name": "stdout",
     "output_type": "stream",
     "text": [
      "Departments in a hospital\n",
      "('Franco-USAese Hospital', 'Paediatrics')\n",
      "('Franco-USAese Hospital', 'Obstetrics')\n",
      "('Franco-USAese Hospital', 'Orthopaedics')\n",
      "('Franco-USAese Hospital', 'Skin')\n",
      "('Franco-USAese Hospital', 'Medicine')\n",
      "('Franco-USAese Hospital', 'Gynaecology')\n",
      "('Franco-USAese Hospital', 'Psychiatry')\n",
      "('Franco-USAese Hospital', 'Cardiology')\n",
      "('Franco-USAese Hospital', 'Cardiology')\n",
      "('Franco-USAese Hospital', 'Cardiology')\n"
     ]
    }
   ],
   "source": [
    "# Depatments in Hospital\n",
    "query=(\"select h.hosp_name,d.dept_name  from hospitaldepartment hd inner join hospital h on hd.hospital_id=h.hospital_id inner join departments d on hd.dept_id=d.dept_id where h.hosp_name=%s \");\n",
    "t=('Franco-USAese Hospital',)\n",
    "cursor.execute(query,t)\n",
    "print(\"Departments in a hospital\")\n",
    "myresult = cursor.fetchall()\n",
    "for x in myresult:\n",
    "    print(x)"
   ]
  },
  {
   "cell_type": "code",
   "execution_count": 85,
   "id": "PANgPd-9ginz",
   "metadata": {
    "id": "PANgPd-9ginz"
   },
   "outputs": [
    {
     "name": "stdout",
     "output_type": "stream",
     "text": [
      "Availability of doctors\n",
      "('Tanvi', 'Reddy', datetime.date(2022, 4, 1), datetime.timedelta(seconds=39600), datetime.timedelta(seconds=70200))\n",
      "('Regina', 'Phillips', datetime.date(2022, 7, 1), datetime.timedelta(seconds=43200), datetime.timedelta(seconds=73800))\n",
      "('William', 'Fishers', datetime.date(2022, 9, 1), datetime.timedelta(seconds=43200), datetime.timedelta(seconds=73800))\n",
      "('John', 'Rivers', datetime.date(2022, 5, 1), datetime.timedelta(seconds=39600), datetime.timedelta(seconds=70200))\n",
      "('Rebecca', 'Johnson', datetime.date(2022, 6, 1), datetime.timedelta(seconds=28800), datetime.timedelta(seconds=59400))\n",
      "('Marina', 'DSouza', datetime.date(2022, 10, 1), datetime.timedelta(seconds=39600), datetime.timedelta(seconds=70200))\n",
      "('Abhignya', 'Pachava', datetime.date(2022, 2, 1), datetime.timedelta(seconds=43200), datetime.timedelta(seconds=73800))\n",
      "('Bhavitha', 'Meka', datetime.date(2022, 3, 1), datetime.timedelta(seconds=36000), datetime.timedelta(seconds=66600))\n",
      "('Prakash', 'Mehta', datetime.date(2022, 8, 1), datetime.timedelta(seconds=36000), datetime.timedelta(seconds=66600))\n",
      "('Kaivalya', 'Avutapalli', datetime.date(2022, 1, 1), datetime.timedelta(seconds=32400), datetime.timedelta(seconds=63000))\n"
     ]
    }
   ],
   "source": [
    "#Availability of doctors\n",
    "query=(\"select d.first_name, d.last_name, a.day,a.start_time,a.end_time from doctor d join availability a on d.doctor_id=a.doctor_id\");\n",
    "cursor.execute(query)\n",
    "print(\"Availability of doctors\")\n",
    "myresult = cursor.fetchall()\n",
    "for x in myresult:\n",
    "    print(x)"
   ]
  },
  {
   "cell_type": "code",
   "execution_count": 177,
   "id": "_5LYQaX0gl9O",
   "metadata": {
    "id": "_5LYQaX0gl9O"
   },
   "outputs": [
    {
     "name": "stdout",
     "output_type": "stream",
     "text": [
      "Appointments on a specific day\n",
      "('AP12', datetime.date(2022, 12, 6), 'Regina', 'Phillips')\n",
      "('AP16', datetime.date(2022, 12, 6), 'Marina', 'DSouza')\n"
     ]
    }
   ],
   "source": [
    "# Appointments on a specific day\n",
    "query=(\"select a.appointment_id, a.date, d.first_name, d.last_name from doctorhospital dh inner join appointments a on dh.doc_hospital_id=a.doc_hospital_id inner join doctor d on dh.doctor_id=d.doctor_id where a.date=%s \");\n",
    "t=('2022-12-06',)\n",
    "cursor.execute(query,t)\n",
    "print(\"Appointments on a specific day\")\n",
    "myresult = cursor.fetchall()\n",
    "#print(myresult)\n",
    "for x in myresult:\n",
    "    print(x)"
   ]
  },
  {
   "cell_type": "code",
   "execution_count": 172,
   "id": "bLVlQlU-goeC",
   "metadata": {
    "id": "bLVlQlU-goeC"
   },
   "outputs": [
    {
     "name": "stdout",
     "output_type": "stream",
     "text": [
      "Doctors specialization\n",
      "('Tanvi', 'Reddy', 'Gynaecology')\n",
      "('Tanvi', 'Reddy', 'ENT')\n",
      "('Regina', 'Phillips', 'Cardiology')\n",
      "('William', 'Fishers', 'Dental')\n",
      "('John', 'Rivers', 'Psychiatry')\n",
      "('Rebecca', 'Johnson', 'Plastic Surgery')\n",
      "('Rebecca', 'Johnson', 'Orthopaedics')\n",
      "('Marina', 'DSouza', 'ENT')\n",
      "('Abhignya', 'Pachava', 'ENT')\n",
      "('Bhavitha', 'Meka', 'Medicine')\n",
      "('Bhavitha', 'Meka', 'Eye')\n",
      "('Prakash', 'Mehta', 'Medicine')\n",
      "('Kaivalya', 'Avutapalli', 'Neurology')\n",
      "('Kaivalya', 'Avutapalli', 'Skin')\n"
     ]
    }
   ],
   "source": [
    "# Doctor Specilaization\n",
    "query=(\"select distinct d.first_name, d.last_name, dp.dept_name from doctorhospital dh inner join doctor d on dh.doctor_id=d.doctor_id inner join hospitaldepartment hd on hd.hos_dept_id=dh.hos_dept_id inner join departments dp on dp.dept_id=hd.dept_id\");\n",
    "cursor.execute(query)\n",
    "print(\"Doctors specialization\")\n",
    "myresult = cursor.fetchall()\n",
    "for x in myresult:\n",
    "    print(x)"
   ]
  },
  {
   "cell_type": "code",
   "execution_count": 166,
   "id": "rImO564Mgq9Y",
   "metadata": {
    "id": "rImO564Mgq9Y"
   },
   "outputs": [
    {
     "name": "stdout",
     "output_type": "stream",
     "text": [
      "Patient and their Insurance details\n",
      "('42-8242885', 'Ileane', 'Sauvain', 'Preferred provider organization plan')\n",
      "('15-8394125', 'Levey', 'Juanes', 'Health maintenance organization plan')\n",
      "('02-9177588', 'Wallace', 'Scawen', 'Point of service plan')\n",
      "('43-4350469', 'Tann', 'Colicot', 'Point of service plan')\n",
      "('75-8247992', 'Rosalyn', 'Ca', 'Point of service plan')\n",
      "('36-4840031', 'Arvin', 'Lacey', 'Point of service plan')\n",
      "('12-3268018', 'Travers', 'Morgon', 'Exclusive provider organization Plan')\n",
      "('59-4900359', 'Sheffie', 'Scrowton', 'Exclusive provider organization Plan')\n",
      "('77-4662244', 'Mano', 'Eyes', 'Health savings account qualified plan')\n",
      "('47-3781177', 'Raina', 'Skyram', 'Health savings account qualified plan')\n",
      "('43-1621979', 'Toby', 'Skeene', 'Indemnity plan')\n",
      "('32-0949473', 'Lucias', 'Dallender', 'Indemnity plan')\n",
      "('81-1406074', 'Ollie', 'Weighell', 'Indemnity plan')\n",
      "('72-2088963', 'Leodora', 'Lindup', 'Indemnity plan')\n",
      "('56-2589714', 'Yalonda', 'Wholesworth', 'Open Access Point of service')\n",
      "('89-6699193', 'Ede', 'Woloschin', 'Open Access Point of service')\n",
      "('75-9858715', 'Elinore', 'Baurerich', 'Open Access Point of service')\n",
      "('47-6929314', 'Roley', 'Cayzer', 'High Deductible Health Plan')\n",
      "('71-1784438', 'Alard', 'Turgoose', 'High Deductible Health Plan')\n",
      "('52-6890807', 'Verge', 'Bermingham', 'Short term health insurance plan')\n"
     ]
    }
   ],
   "source": [
    "# Patient and their Insurance Details\n",
    "query=(\"select p.patient_id,p.first_name,p.last_name,co.plan_name from patient p inner join patient_policy pp on pp.patient_id=p.patient_id inner join policy po on po.policy_id=pp.policy_id inner join insuranceplan ip on po.plan_id=ip.plan_id inner join coverage co on ip.coverage_id=co.coverage_id\");\n",
    "cursor.execute(query)\n",
    "print(\"Patient and their Insurance details\")\n",
    "myresult = cursor.fetchall()\n",
    "for x in myresult:\n",
    "    print(x)"
   ]
  },
  {
   "cell_type": "code",
   "execution_count": 167,
   "id": "v57l1-T5gtx0",
   "metadata": {
    "id": "v57l1-T5gtx0"
   },
   "outputs": [
    {
     "name": "stdout",
     "output_type": "stream",
     "text": [
      "Insurance plan details\n",
      "('Preferred provider organization plan', 1, 0, datetime.date(2022, 1, 1), datetime.date(2022, 12, 31))\n",
      "('Health maintenance organization plan', 0, 1, datetime.date(2022, 10, 8), datetime.date(2023, 10, 7))\n",
      "('Point of service plan', 1, 1, datetime.date(2022, 1, 1), datetime.date(2022, 12, 31))\n",
      "('Point of service plan', 1, 1, datetime.date(2022, 1, 1), datetime.date(2022, 12, 31))\n",
      "('Exclusive provider organization Plan', 1, 1, datetime.date(2022, 1, 1), datetime.date(2022, 6, 30))\n",
      "('Health savings account qualified plan', 0, 0, datetime.date(2022, 1, 1), datetime.date(2022, 12, 31))\n",
      "('Health savings account qualified plan', 0, 0, datetime.date(2022, 1, 1), datetime.date(2022, 12, 31))\n",
      "('Indemnity plan', 0, 1, datetime.date(2022, 1, 1), datetime.date(2022, 12, 31))\n",
      "('Indemnity plan', 0, 1, datetime.date(2022, 1, 1), datetime.date(2022, 12, 31))\n",
      "('Indemnity plan', 0, 1, datetime.date(2022, 1, 1), datetime.date(2022, 12, 31))\n",
      "('Open Access Point of service', 1, 0, datetime.date(2022, 1, 1), datetime.date(2022, 4, 30))\n",
      "('Open Access Point of service', 1, 0, datetime.date(2022, 1, 1), datetime.date(2022, 2, 28))\n",
      "('High Deductible Health Plan', 0, 0, datetime.date(2022, 1, 1), datetime.date(2022, 12, 31))\n",
      "('High Deductible Health Plan', 0, 0, datetime.date(2022, 1, 1), datetime.date(2022, 4, 30))\n",
      "('Short term health insurance plan', 1, 1, datetime.date(2022, 1, 1), datetime.date(2022, 12, 31))\n"
     ]
    }
   ],
   "source": [
    "# Insurance Plan Details\n",
    "query=(\"select co.plan_name, co.health_inclusive,co.dental_inclusive,po.start_date,po.end_date from coverage co inner join insuranceplan ip on co.coverage_id=ip.coverage_id inner join policy po on po.plan_id=ip.plan_id\");\n",
    "cursor.execute(query)\n",
    "print(\"Insurance plan details\")\n",
    "myresult = cursor.fetchall()\n",
    "for x in myresult:\n",
    "    print(x)"
   ]
  },
  {
   "cell_type": "code",
   "execution_count": 168,
   "id": "YXAwfl-bgwLX",
   "metadata": {
    "id": "YXAwfl-bgwLX"
   },
   "outputs": [
    {
     "name": "stdout",
     "output_type": "stream",
     "text": [
      "Patient’s treatment and billing info\n",
      "('12-3268018', 'Travers', 'Morgon', 'Type 1 Diabetes: Insulin', None, Decimal('50.00'))\n",
      "('77-4662244', 'Mano', 'Eyes', 'Blood Clots: Aspirin', None, Decimal('100.00'))\n",
      "('42-8242885', 'Ileane', 'Sauvain', 'Coronary Blocks: Coronary angioplasty and stent placement', None, Decimal('35.00'))\n",
      "('56-2589714', 'Yalonda', 'Wholesworth', 'Bacterial pneumonia: Antibotics ', None, Decimal('100.00'))\n",
      "('15-8394125', 'Levey', 'Juanes', 'Asthama:Flovent HFA and Flovent Diskus', None, Decimal('50.00'))\n",
      "('59-4900359', 'Sheffie', 'Scrowton', 'Bronchitis: Albuterol and cough medicine', None, Decimal('25.00'))\n",
      "('32-0949473', 'Lucias', 'Dallender', 'Throat Infection: Tylenol', None, Decimal('250.00'))\n",
      "('02-9177588', 'Wallace', 'Scawen', 'Chest pain: Electrocardiogram and chest X-ray tests', None, Decimal('75.00'))\n",
      "('72-2088963', 'Leodora', 'Lindup', 'Type 2 Diabetes: Metformin', None, Decimal('100.00'))\n",
      "('75-8247992', 'Rosalyn', 'Ca', 'Tuberclosis: isoniazid and rifampicin ', None, Decimal('150.00'))\n",
      "('89-6699193', 'Ede', 'Woloschin', 'Lung cancer: Chemotherapy', None, Decimal('200.00'))\n",
      "('52-6890807', 'Verge', 'Bermingham', 'High LDL cholestrol: Statins', None, Decimal('350.00'))\n",
      "('36-4840031', 'Arvin', 'Lacey', 'Stomach Ulcer:Therapeutic endoscopy', None, Decimal('400.00'))\n",
      "('59-4900359', 'Sheffie', 'Scrowton', 'Brain tumor: Biopsy', None, Decimal('100.00'))\n",
      "('75-9858715', 'Elinore', 'Baurerich', 'Typhoid:Ciprofloxacin and Azithromycin', None, Decimal('50.00'))\n"
     ]
    }
   ],
   "source": [
    "# Patient Treatment and Billing Info\n",
    "query=(\"select p.patient_id,p.first_name,p.last_name,ph.treatement, ph.date,b.amount from patient p inner join patientdocument pd on pd.patient_id=p.patient_id inner join patienthistory ph on ph.file_id=pd.file_id inner join appointments ap on ap.appointment_id=ph.appointment_id inner join billing b on b.appointment_id=ap.appointment_id\");\n",
    "cursor.execute(query)\n",
    "print(\"Patient’s treatment and billing info\")\n",
    "myresult = cursor.fetchall()\n",
    "for x in myresult:\n",
    "    print(x)"
   ]
  },
  {
   "cell_type": "code",
   "execution_count": 2,
   "id": "5o9EbKMygzQ2",
   "metadata": {
    "id": "5o9EbKMygzQ2"
   },
   "outputs": [
    {
     "name": "stdout",
     "output_type": "stream",
     "text": [
      "Enter patient id 12-3269018\n",
      "Update patient contact number\n"
     ]
    }
   ],
   "source": [
    "# Update patient Contact Details\n",
    "patient_id=input(\"Enter patient id \") # '12-3269018'\n",
    "query=(\"update patient set contact_no='6335888665' where patient_id=%s\");\n",
    "cursor.execute(query,(patient_id,))\n",
    "print(\"Update patient contact number\")\n",
    "myresult = cursor.fetchall()\n",
    "for x in myresult:\n",
    "    print(x)"
   ]
  },
  {
   "cell_type": "code",
   "execution_count": 11,
   "id": "C9-QGDMLg10t",
   "metadata": {
    "id": "C9-QGDMLg10t"
   },
   "outputs": [
    {
     "name": "stdout",
     "output_type": "stream",
     "text": [
      "Enter doctor id D70630\n",
      "Enter address line 1 18 country club dr\n",
      "Enter address line 2 Apt 1\n",
      "Enter Manchester Manchester\n",
      "Enter zip code 03210\n",
      "Update doctor address\n"
     ]
    }
   ],
   "source": [
    "# Update Doctor Address\n",
    "doctor_id=input(\"Enter doctor id \") # 'D70630'\n",
    "address_line1=input(\"Enter address line 1 \") # '18 country club dr'\n",
    "address_line2=input(\"Enter address line 2 \") # 'Apt 1'\n",
    "city=input(\"Enter Manchester \") # 'Manchester'\n",
    "zipcode=int(input(\"Enter zip code \")) # 03210\n",
    "query=(\"update doctor set address_line1=%s, address_line2=%s, city=%s, zip=%s where doctor_id=%s\");\n",
    "cursor.execute(query,(address_line1,address_line2,city,zipcode,doctor_id,))\n",
    "print(\"Update doctor address\")\n",
    "myresult = cursor.fetchall()\n",
    "for x in myresult:\n",
    "    print(x)"
   ]
  },
  {
   "cell_type": "code",
   "execution_count": 28,
   "id": "-SjHLpjtg4dA",
   "metadata": {
    "id": "-SjHLpjtg4dA"
   },
   "outputs": [],
   "source": [
    "# Updating Insurance policy Details\n",
    "policy_id=input(\"Enter policy id \") # 'P1'\n",
    "start_date=input(\"Enter start datewith \") # '2022-10-08'\n",
    "end_date=input(\"Enter end date \") # '2023-10-07'\n",
    "premium=int(input(\"Enter premium amount \")) # 2500\n",
    "query=(\"UPDATE policy p INNER JOIN insuranceplan ip  ON p.plan_id = ip.plan_id INNER JOIN coverage c  ON c.coverage_id=ip.coverage_idSET p.start_date = %s, p.end_date= %s, c.premium= %s WHERE p.policy_id=%s \");\n",
    "cursor.execute(query,(start_date,end_date,premium, ))\n",
    "#query=(\"UPDATE policy p INNER JOIN insuranceplan ip  ON p.plan_id = ip.plan_id INNER JOIN coverage c  ON c.coverage_id=ip.coverage_idSET p.start_date = '2023-10-07', p.end_date= '2023-10-07', c.premium= 2500 WHERE p.policy_id='P1' \");\n",
    "#cursor.execute(query)\n",
    "print(\"Update policy details\")\n",
    "myresult = cursor.fetchall()\n",
    "for x in myresult:\n",
    "    print(x)"
   ]
  },
  {
   "cell_type": "code",
   "execution_count": 16,
   "id": "fa42zN0ug68q",
   "metadata": {
    "id": "fa42zN0ug68q"
   },
   "outputs": [
    {
     "name": "stdout",
     "output_type": "stream",
     "text": [
      "Enter doctor id D9501\n",
      "Enter first name Alex\n",
      "Enter last name Parrish\n",
      "Enter License number 2204\n",
      "Enter address line 1 1993 Park Drive Apt 16\n",
      "Enter address line 2 Fenway\n",
      "Enter city Boston\n",
      "Enter zipcode 02215\n",
      "Enter state Massachusetts\n",
      "insert doctor details\n",
      "[]\n"
     ]
    }
   ],
   "source": [
    "# Inserting Doctor Details\n",
    "doctor_id=input(\"Enter doctor id \") # 'D9500'\n",
    "first_name=input(\"Enter first name \") # 'Alex'\n",
    "last_name=input(\"Enter last name \") # 'Parrish'\n",
    "license_no=input(\"Enter License number \") # '2204'\n",
    "address_line1=input(\"Enter address line 1 \") # '1993 Park Drive Apt 16'\n",
    "address_line2=input(\"Enter address line 2 \") # 'Fenway'\n",
    "city=input(\"Enter city \") # 'Boston'\n",
    "zipcode=input(\"Enter zipcode \") # '02215'\n",
    "state=input(\"Enter state \") # 'Massachusetts'\n",
    "query=(\"Insert into doctor (doctor_id, first_name,last_name,license_no,address_line1,address_line2,city,zip,state)values (%s,%s,%s,%s,%s,%s,%s,%s,%s) \");\n",
    "cursor.execute(query,(doctor_id, first_name,last_name,license_no,address_line1,address_line2,city,zipcode,state,))\n",
    "print(\"insert doctor details\")\n",
    "myresult = cursor.fetchall()\n",
    "# print(myresult)\n",
    "for x in myresult:\n",
    "    print(x)"
   ]
  },
  {
   "cell_type": "code",
   "execution_count": 25,
   "id": "M-j1Qogkg9TN",
   "metadata": {
    "id": "M-j1Qogkg9TN"
   },
   "outputs": [
    {
     "name": "stdout",
     "output_type": "stream",
     "text": [
      "Enter patient id 09-9167588\n",
      "Enter first name William\n",
      "Enter last name Steve\n",
      "Enter email_id william10@gmail.com\n",
      "Enter contact number 6037868909\n",
      "Enter ssn 7702871980\n",
      "Enter address line 1 12 village circle way\n",
      "Enter address line 2 Fenway\n",
      "Enter city Boston\n",
      "Enter zipcode 02215\n",
      "Enter state Massachusetts\n",
      "insert patient details\n",
      "[]\n"
     ]
    }
   ],
   "source": [
    "# Inserting patient Details\n",
    "patient_id=input(\"Enter patient id \") # '09-9177588'\n",
    "first_name=input(\"Enter first name \") # 'William'\n",
    "last_name=input(\"Enter last name \") # 'Steve'\n",
    "email_id=input(\"Enter email_id \") # william10@gmail.com\n",
    "contact_no=input(\"Enter contact number \") # '6037868909'\n",
    "ssn=input(\"Enter ssn \") # '7702871980'\n",
    "address_line1=input(\"Enter address line 1 \") # '12 village circle way'\n",
    "address_line2=input(\"Enter address line 2 \") # 'Fenway'\n",
    "city=input(\"Enter city \") # 'Boston'\n",
    "zipcode=input(\"Enter zipcode \") # '02215'\n",
    "state=input(\"Enter state \") # 'Massachusetts'\n",
    "\n",
    "query=(\"insert into patient (patient_id, first_name, last_name, email_id, contact_no, ssn, address_line1, address_line2, city, zip, state) values (%s, %s, %s, %s , %s, %s, %s, %s, %s,%s,%s)\");\n",
    "cursor.execute(query,(patient_id, first_name, last_name, email_id, contact_no, ssn, address_line1, address_line2, city, zipcode, state,))\n",
    "print(\"insert patient details\")\n",
    "myresult = cursor.fetchall()\n",
    "# print(myresult)\n",
    "for x in myresult:\n",
    "    print(x)"
   ]
  },
  {
   "cell_type": "code",
   "execution_count": 102,
   "id": "ecrNEuW3iWrF",
   "metadata": {
    "id": "ecrNEuW3iWrF"
   },
   "outputs": [
    {
     "name": "stdout",
     "output_type": "stream",
     "text": [
      "   coverage_count coverage_id\n",
      "0               1         PL1\n",
      "1               1         PL2\n",
      "2               2         PL3\n",
      "3               1         PL4\n",
      "4               2         PL5\n",
      "5               3         PL6\n",
      "6               2         PL7\n",
      "7               2         PL8\n",
      "8               1         PL9\n"
     ]
    },
    {
     "data": {
      "text/plain": [
       "<AxesSubplot:title={'center':'Insurance Coverage Count'}, xlabel='coverage_id'>"
      ]
     },
     "execution_count": 102,
     "metadata": {},
     "output_type": "execute_result"
    },
    {
     "data": {
      "image/png": "[encoded data removed]",
      "text/plain": [
       "<Figure size 432x288 with 1 Axes>"
      ]
     },
     "metadata": {
      "needs_background": "light"
     },
     "output_type": "display_data"
    }
   ],
   "source": [
    "# Insurance plan coverage count Bar Chart\n",
    "query = \"select count(coverage_id) as coverage_count,coverage_id from insuranceplan group by coverage_id\"\n",
    "result_dataFrame = pd.read_sql(query,connection)\n",
    "print(result_dataFrame)\n",
    "result_dataFrame.plot.bar(x=\"coverage_id\", y=\"coverage_count\", rot=70, title=\"Insurance Coverage Count\")"
   ]
  },
  {
   "cell_type": "code",
   "execution_count": 101,
   "id": "gHsCRxH-vPt9",
   "metadata": {
    "id": "gHsCRxH-vPt9"
   },
   "outputs": [
    {
     "name": "stdout",
     "output_type": "stream",
     "text": [
      "0    D13861\n",
      "1    D14248\n",
      "2    D24977\n",
      "3     D4219\n",
      "4    D43717\n",
      "5    D47306\n",
      "6    D58202\n",
      "7    D70630\n",
      "8    D70640\n",
      "9     D9046\n",
      "Name: doctor_id, dtype: object\n"
     ]
    },
    {
     "data": {
      "text/plain": [
       "<AxesSubplot:ylabel='appointments_count'>"
      ]
     },
     "execution_count": 101,
     "metadata": {},
     "output_type": "execute_result"
    },
    {
     "data": {
      "image/png": "[encoded data removed]",
      "text/plain": [
       "<Figure size 720x720 with 1 Axes>"
      ]
     },
     "metadata": {},
     "output_type": "display_data"
    }
   ],
   "source": [
    "# Doctots appointment percentage pie Chart\n",
    "query=\"select count(doctor_id) as appointments_count, doctor_id from doctorhospital dh inner join appointments a on dh.doc_hospital_id=a.doc_hospital_id group by doctor_id\"\n",
    "result_dataFrame = pd.read_sql(query,connection)\n",
    "print(result_dataFrame['doctor_id'])\n",
    "result_dataFrame.plot.pie(y='appointments_count',labels=result_dataFrame['doctor_id'],figsize=(10,10),autopct='%1.1f%%')"
   ]
  },
  {
   "cell_type": "code",
   "execution_count": 17,
   "id": "e73ba67b",
   "metadata": {
    "id": "e73ba67b"
   },
   "outputs": [
    {
     "name": "stdout",
     "output_type": "stream",
     "text": [
      "MySQL connection is closed\n"
     ]
    }
   ],
   "source": [
    "if connection.is_connected():\n",
    "        cursor.close()\n",
    "        connection.close()\n",
    "        print(\"MySQL connection is closed\")"
   ]
  },
  {
   "cell_type": "code",
   "execution_count": null,
   "id": "980a699a",
   "metadata": {},
   "outputs": [],
   "source": []
  }
 ],
 "metadata": {
  "colab": {
   "provenance": []
  },
  "kernelspec": {
   "display_name": "Python 3 (ipykernel)",
   "language": "python",
   "name": "python3"
  },
  "language_info": {
   "codemirror_mode": {
    "name": "ipython",
    "version": 3
   },
   "file_extension": ".py",
   "mimetype": "text/x-python",
   "name": "python",
   "nbconvert_exporter": "python",
   "pygments_lexer": "ipython3",
   "version": "3.9.7"
  }
 },
 "nbformat": 4,
 "nbformat_minor": 5
}
